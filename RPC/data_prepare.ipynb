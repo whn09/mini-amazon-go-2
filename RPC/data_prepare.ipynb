{
 "cells": [
  {
   "cell_type": "code",
   "execution_count": null,
   "id": "10309faa",
   "metadata": {},
   "outputs": [],
   "source": [
    "# !mkdir -p images"
   ]
  },
  {
   "cell_type": "code",
   "execution_count": null,
   "id": "749b663f",
   "metadata": {},
   "outputs": [],
   "source": [
    "# !mv train2019 images/\n",
    "# !mv val2019 images/\n",
    "# !mv test2019 images/"
   ]
  },
  {
   "cell_type": "code",
   "execution_count": null,
   "id": "48c3bf2e",
   "metadata": {},
   "outputs": [],
   "source": [
    "# !rm -rf labels/train2019/\n",
    "# !rm -rf labels/val2019/\n",
    "# !rm -rf labels/test2019/\n",
    "!mkdir -p labels/train2019\n",
    "!mkdir -p labels/val2019\n",
    "!mkdir -p labels/test2019"
   ]
  },
  {
   "cell_type": "code",
   "execution_count": 37,
   "id": "0b2f88e2",
   "metadata": {},
   "outputs": [],
   "source": [
    "import os\n",
    "import json\n",
    "import shutil\n",
    "from tqdm import tqdm"
   ]
  },
  {
   "cell_type": "code",
   "execution_count": null,
   "id": "3f5fccfd",
   "metadata": {},
   "outputs": [],
   "source": [
    "train = json.load(open('instances_train2019.json', 'r'))\n",
    "val = json.load(open('instances_val2019.json', 'r'))\n",
    "test = json.load(open('instances_test2019.json', 'r'))"
   ]
  },
  {
   "cell_type": "code",
   "execution_count": null,
   "id": "3a3201f6",
   "metadata": {},
   "outputs": [],
   "source": [
    "list(train.keys())"
   ]
  },
  {
   "cell_type": "code",
   "execution_count": null,
   "id": "d28a13bd",
   "metadata": {},
   "outputs": [],
   "source": [
    "print(len(train['categories']))\n",
    "print(train['categories'][:2])"
   ]
  },
  {
   "cell_type": "code",
   "execution_count": null,
   "id": "03aebab6",
   "metadata": {},
   "outputs": [],
   "source": [
    "classes = []\n",
    "for category in train['categories']:\n",
    "    classes.append(category['name'])"
   ]
  },
  {
   "cell_type": "code",
   "execution_count": null,
   "id": "73179176",
   "metadata": {},
   "outputs": [],
   "source": [
    "print(len(train['__raw_Chinese_name_df']))\n",
    "print(train['__raw_Chinese_name_df'][:2])"
   ]
  },
  {
   "cell_type": "code",
   "execution_count": null,
   "id": "deb363aa",
   "metadata": {},
   "outputs": [],
   "source": [
    "print(len(train['images']))\n",
    "print(train['images'][:2])"
   ]
  },
  {
   "cell_type": "code",
   "execution_count": null,
   "id": "0ad496c8",
   "metadata": {},
   "outputs": [],
   "source": [
    "print(len(train['annotations']))\n",
    "print(train['annotations'][:2])"
   ]
  },
  {
   "cell_type": "code",
   "execution_count": null,
   "id": "a302331e",
   "metadata": {},
   "outputs": [],
   "source": [
    "!mkdir -p crop_images/train2019\n",
    "!mkdir -p crop_images/val2019\n",
    "!mkdir -p crop_images/test2019"
   ]
  },
  {
   "cell_type": "code",
   "execution_count": null,
   "id": "341e1bda",
   "metadata": {},
   "outputs": [],
   "source": [
    "train_images = {}\n",
    "\n",
    "for image in tqdm(train['images']):\n",
    "    image_id = image['id']\n",
    "    train_images[image_id] = image\n",
    "    \n",
    "for annotation in tqdm(train['annotations']):\n",
    "    image_id = annotation['image_id']\n",
    "    image = train_images[image_id]\n",
    "    \n",
    "    file_name = image['file_name']\n",
    "    width = image['width']\n",
    "    height = image['height']\n",
    "    \n",
    "    bbox = annotation['bbox']\n",
    "    x = (bbox[0]+bbox[2]/2)/width\n",
    "    y = (bbox[1]+bbox[3]/2)/height\n",
    "    w = bbox[2]/width\n",
    "    h = bbox[3]/height\n",
    "    category_id = annotation['category_id']-1\n",
    "    \n",
    "    with open('labels/train2019/'+file_name.replace('jpg', 'txt'), 'a') as fout:\n",
    "        fout.write(str(category_id)+' '+str(x)+' '+str(y)+' '+str(w)+' '+str(h)+'\\n')"
   ]
  },
  {
   "cell_type": "code",
   "execution_count": null,
   "id": "fb9586b0",
   "metadata": {},
   "outputs": [],
   "source": [
    "print(len(val['images']))\n",
    "print(val['images'][:2])\n",
    "print(len(val['annotations']))\n",
    "print(val['annotations'][:2])"
   ]
  },
  {
   "cell_type": "code",
   "execution_count": null,
   "id": "b2ff691d",
   "metadata": {},
   "outputs": [],
   "source": [
    "val_images = {}\n",
    "\n",
    "for image in tqdm(val['images']):\n",
    "    image_id = image['id']\n",
    "    val_images[image_id] = image\n",
    "    \n",
    "for annotation in tqdm(val['annotations']):\n",
    "    image_id = annotation['image_id']\n",
    "    image = val_images[image_id]\n",
    "    \n",
    "    file_name = image['file_name']\n",
    "    width = image['width']\n",
    "    height = image['height']\n",
    "    \n",
    "    bbox = annotation['bbox']\n",
    "    x = (bbox[0]+bbox[2]/2)/width\n",
    "    y = (bbox[1]+bbox[3]/2)/height\n",
    "    w = bbox[2]/width\n",
    "    h = bbox[3]/height\n",
    "    category_id = annotation['category_id']-1\n",
    "    \n",
    "    with open('labels/val2019/'+file_name.replace('jpg', 'txt'), 'a') as fout:\n",
    "        fout.write(str(category_id)+' '+str(x)+' '+str(y)+' '+str(w)+' '+str(h)+'\\n')"
   ]
  },
  {
   "cell_type": "code",
   "execution_count": null,
   "id": "09b6c1e9",
   "metadata": {},
   "outputs": [],
   "source": [
    "print(len(test['images']))\n",
    "print(test['images'][:2])\n",
    "print(len(test['annotations']))\n",
    "print(test['annotations'][:2])"
   ]
  },
  {
   "cell_type": "code",
   "execution_count": null,
   "id": "5d30accd",
   "metadata": {},
   "outputs": [],
   "source": [
    "test_images = {}\n",
    "\n",
    "for image in tqdm(test['images']):\n",
    "    image_id = image['id']\n",
    "    test_images[image_id] = image\n",
    "    \n",
    "for annotation in tqdm(test['annotations']):\n",
    "    image_id = annotation['image_id']\n",
    "    image = test_images[image_id]\n",
    "    \n",
    "    file_name = image['file_name']\n",
    "    width = image['width']\n",
    "    height = image['height']\n",
    "    \n",
    "    bbox = annotation['bbox']\n",
    "    x = (bbox[0]+bbox[2]/2)/width\n",
    "    y = (bbox[1]+bbox[3]/2)/height\n",
    "    w = bbox[2]/width\n",
    "    h = bbox[3]/height\n",
    "    category_id = annotation['category_id']-1\n",
    "    \n",
    "    with open('labels/test2019/'+file_name.replace('jpg', 'txt'), 'a') as fout:\n",
    "        fout.write(str(category_id)+' '+str(x)+' '+str(y)+' '+str(w)+' '+str(h)+'\\n')"
   ]
  },
  {
   "cell_type": "code",
   "execution_count": null,
   "id": "402aa0ac",
   "metadata": {},
   "outputs": [],
   "source": [
    "!mkdir cfg"
   ]
  },
  {
   "cell_type": "code",
   "execution_count": null,
   "id": "64101f4d",
   "metadata": {},
   "outputs": [],
   "source": [
    "with open('cfg/rpc.yaml', 'w') as fout:\n",
    "    fout.write('path: /home/ec2-user/SageMaker/data/retail_product_checkout/\\n')\n",
    "#     fout.write('train: images/train2019\\n')\n",
    "#     fout.write('val: images/val2019\\n')\n",
    "#     fout.write('test: images/test2019\\n')\n",
    "    fout.write('train: \\n')\n",
    "    fout.write('  - images/train2019\\n')\n",
    "    fout.write('  - images/val2019\\n')\n",
    "    fout.write('val: images/test2019\\n')\n",
    "    fout.write('nc: '+str(len(train['categories']))+'\\n')\n",
    "    fout.write('classes: '+str(classes)+'\\n')"
   ]
  },
  {
   "cell_type": "markdown",
   "id": "f90fd846",
   "metadata": {},
   "source": [
    "## Crop images"
   ]
  },
  {
   "cell_type": "code",
   "execution_count": null,
   "id": "54d85c33",
   "metadata": {},
   "outputs": [],
   "source": [
    "import cv2"
   ]
  },
  {
   "cell_type": "code",
   "execution_count": null,
   "id": "c9e552c8",
   "metadata": {},
   "outputs": [],
   "source": [
    "train_labels = os.listdir('labels/train2019/')\n",
    "val_labels = os.listdir('labels/val2019/')\n",
    "test_labels = os.listdir('labels/test2019/')\n",
    "print(len(train_labels), len(val_labels), len(test_labels))"
   ]
  },
  {
   "cell_type": "code",
   "execution_count": null,
   "id": "612dfae8",
   "metadata": {},
   "outputs": [],
   "source": [
    "for label in tqdm(train_labels):\n",
    "    if label.endswith('txt'):\n",
    "        label_filename = os.path.join('labels/train2019/', label)\n",
    "        image_filename = os.path.join('images/train2019/', label.replace('txt', 'jpg'))\n",
    "#         print('label_filename:', label_filename)\n",
    "#         print('image_filename:', image_filename)\n",
    "        image = cv2.imread(image_filename)\n",
    "        width = image.shape[1]\n",
    "        height = image.shape[0]\n",
    "        with open(label_filename, 'r') as fin:\n",
    "            lines = [line.rstrip('\\n') for line in fin]\n",
    "            for i, line in enumerate(lines):\n",
    "#                 line = line.strip()\n",
    "                params = line.split(' ')\n",
    "                class_id = int(params[0])\n",
    "                center_x = float(params[1])\n",
    "                center_y = float(params[2])\n",
    "                w = float(params[3])\n",
    "                h = float(params[4])\n",
    "                xmin = int((center_x-w/2)*width)\n",
    "                xmax = int((center_x+w/2)*width)\n",
    "                ymin = int((center_y-h/2)*height)\n",
    "                ymax = int((center_y+h/2)*height)\n",
    "                sub_image = image[ymin:ymax, xmin:xmax, :]\n",
    "                cv2.imwrite(image_filename.replace('images', 'crop_images').replace('.jpg', '_'+str(i)+'_'+str(class_id)+'_'+str(train['__raw_Chinese_name_df'][class_id]['name'])+'.jpg'), sub_image)        "
   ]
  },
  {
   "cell_type": "code",
   "execution_count": null,
   "id": "7a8ff0d9",
   "metadata": {},
   "outputs": [],
   "source": [
    "for label in tqdm(val_labels):\n",
    "    if label.endswith('txt'):\n",
    "        label_filename = os.path.join('labels/val2019/', label)\n",
    "        image_filename = os.path.join('images/val2019/', label.replace('txt', 'jpg'))\n",
    "#         print('label_filename:', label_filename)\n",
    "#         print('image_filename:', image_filename)\n",
    "        image = cv2.imread(image_filename)\n",
    "        width = image.shape[1]\n",
    "        height = image.shape[0]\n",
    "        with open(label_filename, 'r') as fin:\n",
    "            lines = [line.rstrip('\\n') for line in fin]\n",
    "            for i, line in enumerate(lines):\n",
    "#                 line = line.strip()\n",
    "                params = line.split(' ')\n",
    "                class_id = int(params[0])\n",
    "                center_x = float(params[1])\n",
    "                center_y = float(params[2])\n",
    "                w = float(params[3])\n",
    "                h = float(params[4])\n",
    "                xmin = int((center_x-w/2)*width)\n",
    "                xmax = int((center_x+w/2)*width)\n",
    "                ymin = int((center_y-h/2)*height)\n",
    "                ymax = int((center_y+h/2)*height)\n",
    "                sub_image = image[ymin:ymax, xmin:xmax, :]\n",
    "                cv2.imwrite(image_filename.replace('images', 'crop_images').replace('.jpg', '_'+str(i)+'_'+str(class_id)+'_'+str(train['__raw_Chinese_name_df'][class_id]['name'])+'.jpg'), sub_image)        "
   ]
  },
  {
   "cell_type": "code",
   "execution_count": null,
   "id": "b46bcdd1",
   "metadata": {},
   "outputs": [],
   "source": [
    "for label in tqdm(test_labels):\n",
    "    if label.endswith('txt'):\n",
    "        label_filename = os.path.join('labels/test2019/', label)\n",
    "        image_filename = os.path.join('images/test2019/', label.replace('txt', 'jpg'))\n",
    "#         print('label_filename:', label_filename)\n",
    "#         print('image_filename:', image_filename)\n",
    "        image = cv2.imread(image_filename)\n",
    "        width = image.shape[1]\n",
    "        height = image.shape[0]\n",
    "        with open(label_filename, 'r') as fin:\n",
    "            lines = [line.rstrip('\\n') for line in fin]\n",
    "            for i, line in enumerate(lines):\n",
    "#                 line = line.strip()\n",
    "                params = line.split(' ')\n",
    "                class_id = int(params[0])\n",
    "                center_x = float(params[1])\n",
    "                center_y = float(params[2])\n",
    "                w = float(params[3])\n",
    "                h = float(params[4])\n",
    "                xmin = int((center_x-w/2)*width)\n",
    "                xmax = int((center_x+w/2)*width)\n",
    "                ymin = int((center_y-h/2)*height)\n",
    "                ymax = int((center_y+h/2)*height)\n",
    "                sub_image = image[ymin:ymax, xmin:xmax, :]\n",
    "                cv2.imwrite(image_filename.replace('images', 'crop_images').replace('.jpg', '_'+str(i)+'_'+str(class_id)+'_'+str(train['__raw_Chinese_name_df'][class_id]['name'])+'.jpg'), sub_image)        "
   ]
  },
  {
   "cell_type": "code",
   "execution_count": 33,
   "id": "a35f5544",
   "metadata": {},
   "outputs": [],
   "source": [
    "for df in train['__raw_Chinese_name_df']:\n",
    "    name = df['name']\n",
    "    os.makedirs(os.path.join('crop_images', 'train2019', name))\n",
    "    os.makedirs(os.path.join('crop_images', 'val2019', name))\n",
    "    os.makedirs(os.path.join('crop_images', 'test2019', name))"
   ]
  },
  {
   "cell_type": "code",
   "execution_count": 34,
   "id": "bed87d75",
   "metadata": {},
   "outputs": [
    {
     "name": "stdout",
     "output_type": "stream",
     "text": [
      "53940 73803 294533\n"
     ]
    }
   ],
   "source": [
    "train_crop_images = os.listdir(os.path.join('crop_images', 'train2019'))\n",
    "val_crop_images = os.listdir(os.path.join('crop_images', 'val2019'))\n",
    "test_crop_images = os.listdir(os.path.join('crop_images', 'test2019'))\n",
    "print(len(train_crop_images), len(val_crop_images), len(test_crop_images))"
   ]
  },
  {
   "cell_type": "code",
   "execution_count": 41,
   "id": "820e3485",
   "metadata": {},
   "outputs": [
    {
     "name": "stderr",
     "output_type": "stream",
     "text": [
      "100%|██████████| 53940/53940 [00:01<00:00, 36480.78it/s]\n"
     ]
    }
   ],
   "source": [
    "for image in tqdm(train_crop_images):\n",
    "    if image.endswith('jpg'):\n",
    "        dir_name = image[:-4].split('_')[-1]\n",
    "        shutil.move(os.path.join('crop_images', 'train2019', image), os.path.join('crop_images', 'train2019', dir_name))"
   ]
  },
  {
   "cell_type": "code",
   "execution_count": 42,
   "id": "8d494de0",
   "metadata": {},
   "outputs": [
    {
     "name": "stderr",
     "output_type": "stream",
     "text": [
      "100%|██████████| 73803/73803 [00:01<00:00, 42463.22it/s]\n"
     ]
    }
   ],
   "source": [
    "for image in tqdm(val_crop_images):\n",
    "    if image.endswith('jpg'):\n",
    "        dir_name = image[:-4].split('_')[-1]\n",
    "        shutil.move(os.path.join('crop_images', 'val2019', image), os.path.join('crop_images', 'val2019', dir_name))"
   ]
  },
  {
   "cell_type": "code",
   "execution_count": 43,
   "id": "3d5f5241",
   "metadata": {},
   "outputs": [
    {
     "name": "stderr",
     "output_type": "stream",
     "text": [
      "100%|██████████| 294533/294533 [00:07<00:00, 38325.47it/s]\n"
     ]
    }
   ],
   "source": [
    "for image in tqdm(test_crop_images):\n",
    "    if image.endswith('jpg'):\n",
    "        dir_name = image[:-4].split('_')[-1]\n",
    "        shutil.move(os.path.join('crop_images', 'test2019', image), os.path.join('crop_images', 'test2019', dir_name))"
   ]
  },
  {
   "cell_type": "code",
   "execution_count": null,
   "id": "73c12676",
   "metadata": {},
   "outputs": [],
   "source": []
  }
 ],
 "metadata": {
  "kernelspec": {
   "display_name": "conda_python3",
   "language": "python",
   "name": "conda_python3"
  },
  "language_info": {
   "codemirror_mode": {
    "name": "ipython",
    "version": 3
   },
   "file_extension": ".py",
   "mimetype": "text/x-python",
   "name": "python",
   "nbconvert_exporter": "python",
   "pygments_lexer": "ipython3",
   "version": "3.6.13"
  }
 },
 "nbformat": 4,
 "nbformat_minor": 5
}
